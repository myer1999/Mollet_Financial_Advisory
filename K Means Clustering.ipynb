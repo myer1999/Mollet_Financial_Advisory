{
 "cells": [
  {
   "cell_type": "code",
   "execution_count": 1,
   "metadata": {},
   "outputs": [
    {
     "name": "stderr",
     "output_type": "stream",
     "text": [
      "C:\\Users\\Myer\\Anaconda3\\lib\\site-packages\\statsmodels\\tools\\_testing.py:19: FutureWarning: pandas.util.testing is deprecated. Use the functions in the public API at pandas.testing instead.\n",
      "  import pandas.util.testing as tm\n"
     ]
    }
   ],
   "source": [
    "#Load the required packages\n",
    "import numpy as np\n",
    "import pandas as pd\n",
    "import matplotlib.pyplot as plt\n",
    "\n",
    "#Plot styling\n",
    "import seaborn as sns; sns.set()  # for plot styling\n",
    "%matplotlib inline\n",
    "\n",
    "plt.rcParams['figure.figsize'] = (16, 9)\n",
    "plt.style.use('ggplot')"
   ]
  },
  {
   "cell_type": "code",
   "execution_count": 3,
   "metadata": {},
   "outputs": [],
   "source": [
    "data=pd.read_csv('top70.csv')"
   ]
  },
  {
   "cell_type": "code",
   "execution_count": 17,
   "metadata": {},
   "outputs": [
    {
     "data": {
      "text/html": [
       "<div>\n",
       "<style scoped>\n",
       "    .dataframe tbody tr th:only-of-type {\n",
       "        vertical-align: middle;\n",
       "    }\n",
       "\n",
       "    .dataframe tbody tr th {\n",
       "        vertical-align: top;\n",
       "    }\n",
       "\n",
       "    .dataframe thead th {\n",
       "        text-align: right;\n",
       "    }\n",
       "</style>\n",
       "<table border=\"1\" class=\"dataframe\">\n",
       "  <thead>\n",
       "    <tr style=\"text-align: right;\">\n",
       "      <th></th>\n",
       "      <th>ID</th>\n",
       "      <th>Company</th>\n",
       "      <th>Beta</th>\n",
       "      <th>BVPS</th>\n",
       "      <th>DY</th>\n",
       "      <th>DPS</th>\n",
       "      <th>ebtda</th>\n",
       "      <th>eps</th>\n",
       "      <th>MV</th>\n",
       "      <th>PE</th>\n",
       "      <th>...</th>\n",
       "      <th>GDP per Capita</th>\n",
       "      <th>Change in Gdp</th>\n",
       "      <th>Change in Public Debt</th>\n",
       "      <th>Change in Goods and service</th>\n",
       "      <th>Change in Current Account</th>\n",
       "      <th>BETA(rs,GDP)</th>\n",
       "      <th>BETA(rs,PD)</th>\n",
       "      <th>BETA(rs,GS)</th>\n",
       "      <th>BETA(rs,CA)</th>\n",
       "      <th>Market retun</th>\n",
       "    </tr>\n",
       "  </thead>\n",
       "  <tbody>\n",
       "    <tr>\n",
       "      <th>0</th>\n",
       "      <td>2</td>\n",
       "      <td>ABBOTT LABS.(PAK.)</td>\n",
       "      <td>0.904370</td>\n",
       "      <td>118.087900</td>\n",
       "      <td>4.138370</td>\n",
       "      <td>19.481630</td>\n",
       "      <td>4.879387e+06</td>\n",
       "      <td>30.118667</td>\n",
       "      <td>52290.646520</td>\n",
       "      <td>17.471852</td>\n",
       "      <td>...</td>\n",
       "      <td>281.369979</td>\n",
       "      <td>-0.005721</td>\n",
       "      <td>0.00478</td>\n",
       "      <td>0.006943</td>\n",
       "      <td>-0.061915</td>\n",
       "      <td>0.0011</td>\n",
       "      <td>(0.0046)</td>\n",
       "      <td>(0.0171)</td>\n",
       "      <td>0.8326</td>\n",
       "      <td>0.0118</td>\n",
       "    </tr>\n",
       "    <tr>\n",
       "      <th>1</th>\n",
       "      <td>22</td>\n",
       "      <td>AL-KHAIR GADOON</td>\n",
       "      <td>0.506222</td>\n",
       "      <td>21.403167</td>\n",
       "      <td>3.463704</td>\n",
       "      <td>0.355556</td>\n",
       "      <td>3.585800e+04</td>\n",
       "      <td>22.696074</td>\n",
       "      <td>114.000741</td>\n",
       "      <td>5.718519</td>\n",
       "      <td>...</td>\n",
       "      <td>281.369979</td>\n",
       "      <td>-0.005721</td>\n",
       "      <td>0.00478</td>\n",
       "      <td>0.006943</td>\n",
       "      <td>-0.061915</td>\n",
       "      <td>0.0296</td>\n",
       "      <td>(0.0051)</td>\n",
       "      <td>(0.0274)</td>\n",
       "      <td>0.1040</td>\n",
       "      <td>0.0118</td>\n",
       "    </tr>\n",
       "    <tr>\n",
       "      <th>2</th>\n",
       "      <td>26</td>\n",
       "      <td>ALLAWASAYA TEXTILE</td>\n",
       "      <td>-0.128889</td>\n",
       "      <td>1004.752714</td>\n",
       "      <td>4.194370</td>\n",
       "      <td>8.808519</td>\n",
       "      <td>5.569789e+04</td>\n",
       "      <td>26.576222</td>\n",
       "      <td>287.344148</td>\n",
       "      <td>11.497196</td>\n",
       "      <td>...</td>\n",
       "      <td>281.369979</td>\n",
       "      <td>-0.005721</td>\n",
       "      <td>0.00478</td>\n",
       "      <td>0.006943</td>\n",
       "      <td>-0.061915</td>\n",
       "      <td>(0.0038)</td>\n",
       "      <td>(0.0021)</td>\n",
       "      <td>(0.0955)</td>\n",
       "      <td>(0.1846)</td>\n",
       "      <td>0.0118</td>\n",
       "    </tr>\n",
       "    <tr>\n",
       "      <th>3</th>\n",
       "      <td>36</td>\n",
       "      <td>ARCHROMA PAKISTAN</td>\n",
       "      <td>0.661407</td>\n",
       "      <td>140.404128</td>\n",
       "      <td>8.226815</td>\n",
       "      <td>36.248889</td>\n",
       "      <td>2.238490e+06</td>\n",
       "      <td>39.213556</td>\n",
       "      <td>15325.729700</td>\n",
       "      <td>11.475556</td>\n",
       "      <td>...</td>\n",
       "      <td>281.369979</td>\n",
       "      <td>-0.005721</td>\n",
       "      <td>0.00478</td>\n",
       "      <td>0.006943</td>\n",
       "      <td>-0.061915</td>\n",
       "      <td>0.0339</td>\n",
       "      <td>(0.0063)</td>\n",
       "      <td>(0.1156)</td>\n",
       "      <td>0.7810</td>\n",
       "      <td>0.0118</td>\n",
       "    </tr>\n",
       "    <tr>\n",
       "      <th>4</th>\n",
       "      <td>61</td>\n",
       "      <td>BABRI COTTON MILLS</td>\n",
       "      <td>0.478074</td>\n",
       "      <td>229.220000</td>\n",
       "      <td>0.000000</td>\n",
       "      <td>0.000000</td>\n",
       "      <td>-3.090167e+04</td>\n",
       "      <td>0.000000</td>\n",
       "      <td>190.327630</td>\n",
       "      <td>NaN</td>\n",
       "      <td>...</td>\n",
       "      <td>281.369979</td>\n",
       "      <td>-0.005721</td>\n",
       "      <td>0.00478</td>\n",
       "      <td>0.006943</td>\n",
       "      <td>-0.061915</td>\n",
       "      <td>0.0074</td>\n",
       "      <td>(0.0003)</td>\n",
       "      <td>(0.0145)</td>\n",
       "      <td>0.2348</td>\n",
       "      <td>0.0118</td>\n",
       "    </tr>\n",
       "  </tbody>\n",
       "</table>\n",
       "<p>5 rows × 38 columns</p>\n",
       "</div>"
      ],
      "text/plain": [
       "   ID              Company      Beta         BVPS        DY        DPS  \\\n",
       "0   2  ABBOTT LABS.(PAK.)   0.904370   118.087900  4.138370  19.481630   \n",
       "1  22     AL-KHAIR GADOON   0.506222    21.403167  3.463704   0.355556   \n",
       "2  26  ALLAWASAYA TEXTILE  -0.128889  1004.752714  4.194370   8.808519   \n",
       "3  36   ARCHROMA PAKISTAN   0.661407   140.404128  8.226815  36.248889   \n",
       "4  61  BABRI COTTON MILLS   0.478074   229.220000  0.000000   0.000000   \n",
       "\n",
       "          ebtda        eps            MV         PE  ...  GDP per Capita  \\\n",
       "0  4.879387e+06  30.118667  52290.646520  17.471852  ...      281.369979   \n",
       "1  3.585800e+04  22.696074    114.000741   5.718519  ...      281.369979   \n",
       "2  5.569789e+04  26.576222    287.344148  11.497196  ...      281.369979   \n",
       "3  2.238490e+06  39.213556  15325.729700  11.475556  ...      281.369979   \n",
       "4 -3.090167e+04   0.000000    190.327630        NaN  ...      281.369979   \n",
       "\n",
       "   Change in Gdp  Change in Public Debt  Change in Goods and service  \\\n",
       "0      -0.005721                0.00478                     0.006943   \n",
       "1      -0.005721                0.00478                     0.006943   \n",
       "2      -0.005721                0.00478                     0.006943   \n",
       "3      -0.005721                0.00478                     0.006943   \n",
       "4      -0.005721                0.00478                     0.006943   \n",
       "\n",
       "   Change in Current Account  BETA(rs,GDP)  BETA(rs,PD)  BETA(rs,GS)  \\\n",
       "0                  -0.061915       0.0011      (0.0046)     (0.0171)   \n",
       "1                  -0.061915       0.0296      (0.0051)     (0.0274)   \n",
       "2                  -0.061915      (0.0038)     (0.0021)     (0.0955)   \n",
       "3                  -0.061915       0.0339      (0.0063)     (0.1156)   \n",
       "4                  -0.061915       0.0074      (0.0003)     (0.0145)   \n",
       "\n",
       "   BETA(rs,CA)  Market retun  \n",
       "0      0.8326         0.0118  \n",
       "1      0.1040         0.0118  \n",
       "2     (0.1846)        0.0118  \n",
       "3      0.7810         0.0118  \n",
       "4      0.2348         0.0118  \n",
       "\n",
       "[5 rows x 38 columns]"
      ]
     },
     "execution_count": 17,
     "metadata": {},
     "output_type": "execute_result"
    }
   ],
   "source": [
    "data.head()"
   ]
  },
  {
   "cell_type": "code",
   "execution_count": 9,
   "metadata": {},
   "outputs": [],
   "source": [
    "data.head()\n",
    "data =data.replace(r'^\\s*$', np.nan, regex=True)"
   ]
  },
  {
   "cell_type": "code",
   "execution_count": 24,
   "metadata": {},
   "outputs": [],
   "source": [
    "X=data.iloc[:,[2,19]].values"
   ]
  },
  {
   "cell_type": "code",
   "execution_count": 25,
   "metadata": {},
   "outputs": [
    {
     "data": {
      "text/plain": [
       "array([[ 9.04370370e-01,  1.06946444e+02],\n",
       "       [ 5.06222222e-01,  1.06946444e+02],\n",
       "       [-1.28888889e-01,  1.06946444e+02],\n",
       "       [ 6.61407407e-01,  1.06946444e+02],\n",
       "       [ 4.78074074e-01,  1.06946444e+02],\n",
       "       [ 7.55037037e-01,  1.06946444e+02],\n",
       "       [ 3.32074074e-01,  1.06946444e+02],\n",
       "       [ 3.26814815e-01,  1.06946444e+02],\n",
       "       [ 7.43259259e-01,  1.06946444e+02],\n",
       "       [ 1.13851852e+00,  1.06946444e+02],\n",
       "       [ 8.59851852e-01,  1.06946444e+02],\n",
       "       [ 4.39777778e-01,  1.06946444e+02],\n",
       "       [ 1.10074074e-01,  1.06946444e+02],\n",
       "       [ 2.20444444e-01,  1.06946444e+02],\n",
       "       [ 2.88370370e-01,  1.06946444e+02],\n",
       "       [ 7.30518519e-01,  1.06946444e+02],\n",
       "       [ 7.75629630e-01,  1.06946444e+02],\n",
       "       [ 2.04518519e-01,  1.06946444e+02],\n",
       "       [ 1.05718519e+00,  1.06946444e+02],\n",
       "       [ 3.82148148e-01,  1.06946444e+02],\n",
       "       [ 1.16229630e+00,  1.06946444e+02],\n",
       "       [ 1.20933333e+00,  1.06946444e+02],\n",
       "       [ 4.84518519e-01,  1.06946444e+02],\n",
       "       [ 1.19303704e+00,  1.06946444e+02],\n",
       "       [ 3.69703704e-01,  1.06946444e+02],\n",
       "       [ 1.17096296e+00,  1.06946444e+02],\n",
       "       [ 8.13407407e-01,  1.06946444e+02],\n",
       "       [ 9.39851852e-01,  1.06946444e+02],\n",
       "       [ 1.09496296e+00,  1.06946444e+02],\n",
       "       [ 1.38688889e+00,  1.06946444e+02],\n",
       "       [ 1.04074074e+00,  1.06946444e+02],\n",
       "       [ 9.58000000e-01,  1.06946444e+02],\n",
       "       [ 6.40888889e-01,  1.06946444e+02],\n",
       "       [ 6.35259259e-01,  1.06946444e+02],\n",
       "       [ 5.92222222e-01,  1.06946444e+02],\n",
       "       [ 6.82444444e-01,  1.06946444e+02],\n",
       "       [-3.99851852e-01,  1.06946444e+02],\n",
       "       [ 1.31688889e+00,  1.06946444e+02],\n",
       "       [ 7.41037037e-01,  1.06946444e+02],\n",
       "       [ 3.38666667e-01,  1.06946444e+02],\n",
       "       [ 7.58000000e-01,  1.06946444e+02],\n",
       "       [ 2.14888889e-01,  1.06946444e+02],\n",
       "       [ 1.08103704e+00,  1.06946444e+02],\n",
       "       [ 1.44466667e+00,  1.06946444e+02],\n",
       "       [ 5.48592593e-01,  1.06946444e+02],\n",
       "       [ 1.47044444e+00,  1.06946444e+02],\n",
       "       [ 7.05777778e-01,  1.06946444e+02],\n",
       "       [ 1.35022222e+00,  1.06946444e+02],\n",
       "       [ 7.30888889e-01,  1.06946444e+02],\n",
       "       [ 5.61111111e-01,  1.06946444e+02],\n",
       "       [ 1.53459259e+00,  1.06946444e+02],\n",
       "       [ 4.57185185e-01,  1.06946444e+02],\n",
       "       [ 8.69111111e-01,  1.06946444e+02],\n",
       "       [ 4.47629630e-01,  1.06946444e+02],\n",
       "       [-2.87703704e-01,  1.06946444e+02],\n",
       "       [ 3.89333333e-01,  1.06946444e+02],\n",
       "       [ 2.33037037e-01,  1.06946444e+02],\n",
       "       [ 4.21925926e-01,  1.06946444e+02],\n",
       "       [ 3.92740741e-01,  1.06946444e+02],\n",
       "       [ 8.42814815e-01,  1.06946444e+02],\n",
       "       [ 5.17851852e-01,  1.06946444e+02],\n",
       "       [ 7.25185190e-02,  1.06946444e+02],\n",
       "       [ 5.26888889e-01,  1.06946444e+02],\n",
       "       [ 1.30118519e+00,  1.06946444e+02],\n",
       "       [ 9.82296296e-01,  1.06946444e+02],\n",
       "       [-1.13333333e-01,  1.06946444e+02],\n",
       "       [ 5.10592593e-01,  1.06946444e+02],\n",
       "       [ 8.54444444e-01,  1.06946444e+02],\n",
       "       [ 5.63333333e-01,  1.06946444e+02],\n",
       "       [ 5.29777778e-01,  1.06946444e+02]])"
      ]
     },
     "execution_count": 25,
     "metadata": {},
     "output_type": "execute_result"
    }
   ],
   "source": [
    "X"
   ]
  },
  {
   "cell_type": "code",
   "execution_count": 26,
   "metadata": {},
   "outputs": [
    {
     "data": {
      "image/png": "[encoded data removed]",
      "text/plain": [
       "<Figure size 432x288 with 1 Axes>"
      ]
     },
     "metadata": {
      "needs_background": "light"
     },
     "output_type": "display_data"
    }
   ],
   "source": [
    "from sklearn.cluster import KMeans\n",
    "wcss = []\n",
    "for i in range(1,11):\n",
    "    km=KMeans(n_clusters=i,init='k-means++', max_iter=300, n_init=10, random_state=0)\n",
    "    km.fit(X)\n",
    "    wcss.append(km.inertia_)\n",
    "plt.plot(range(1,11),wcss)\n",
    "plt.title('Elbow Method')\n",
    "plt.xlabel('Number of clusters')\n",
    "plt.ylabel('wcss')\n",
    "plt.show()\n",
    "    "
   ]
  },
  {
   "cell_type": "code",
   "execution_count": 27,
   "metadata": {},
   "outputs": [
    {
     "name": "stdout",
     "output_type": "stream",
     "text": [
      "For n_clusters=2, The Silhouette Coefficient is 0.5498784921733085\n",
      "For n_clusters=3, The Silhouette Coefficient is 0.5134607322911044\n",
      "For n_clusters=4, The Silhouette Coefficient is 0.5683246431294163\n",
      "For n_clusters=5, The Silhouette Coefficient is 0.5408097551840102\n",
      "For n_clusters=6, The Silhouette Coefficient is 0.5613231954579565\n",
      "For n_clusters=7, The Silhouette Coefficient is 0.5656046495969841\n",
      "For n_clusters=8, The Silhouette Coefficient is 0.5781836164934777\n",
      "For n_clusters=9, The Silhouette Coefficient is 0.576678959177538\n",
      "For n_clusters=10, The Silhouette Coefficient is 0.574715172988053\n"
     ]
    }
   ],
   "source": [
    "from sklearn.metrics import silhouette_score\n",
    "from sklearn.cluster import KMeans\n",
    "\n",
    "\n",
    "\n",
    "for n_cluster in range(2, 11):\n",
    "    kmeans = KMeans(n_clusters=n_cluster).fit(X)\n",
    "    label = kmeans.labels_\n",
    "    sil_coeff = silhouette_score(X, label, metric='euclidean')\n",
    "    print(\"For n_clusters={}, The Silhouette Coefficient is {}\".format(n_cluster, sil_coeff))"
   ]
  },
  {
   "cell_type": "code",
   "execution_count": 28,
   "metadata": {},
   "outputs": [
    {
     "name": "stdout",
     "output_type": "stream",
     "text": [
      "For n_clusters=2, The Silhouette Coefficient is 0.5498784921733085\n",
      "For n_clusters=3, The Silhouette Coefficient is 0.5181988925185568\n",
      "For n_clusters=4, The Silhouette Coefficient is 0.5683246431294163\n",
      "For n_clusters=5, The Silhouette Coefficient is 0.5408097551840102\n",
      "For n_clusters=6, The Silhouette Coefficient is 0.5613231954579565\n",
      "For n_clusters=7, The Silhouette Coefficient is 0.5656046495969841\n",
      "For n_clusters=8, The Silhouette Coefficient is 0.5745442379416845\n",
      "For n_clusters=9, The Silhouette Coefficient is 0.5823013814158168\n",
      "For n_clusters=10, The Silhouette Coefficient is 0.5690927507497743\n"
     ]
    }
   ],
   "source": [
    "from sklearn.metrics import silhouette_score\n",
    "from sklearn.cluster import KMeans\n",
    "\n",
    "\n",
    "\n",
    "for n_cluster in range(2, 11):\n",
    "    kmeans = KMeans(n_clusters=n_cluster).fit(X)\n",
    "    label = kmeans.labels_\n",
    "    sil_coeff = silhouette_score(X, label, metric='euclidean')\n",
    "    print(\"For n_clusters={}, The Silhouette Coefficient is {}\".format(n_cluster, sil_coeff))"
   ]
  },
  {
   "cell_type": "code",
   "execution_count": 29,
   "metadata": {},
   "outputs": [
    {
     "name": "stdout",
     "output_type": "stream",
     "text": [
      "k: 1  cost: 12.26854812254432\n",
      "k: 2  cost: 4.383277997775337\n",
      "k: 3  cost: 2.26114312986721\n",
      "k: 4  cost: 1.133851959855948\n",
      "k: 5  cost: 0.7967230567286022\n",
      "k: 6  cost: 0.4644058947526202\n",
      "k: 7  cost: 0.33943987071343845\n",
      "k: 8  cost: 0.24585559185271746\n",
      "k: 9  cost: 0.19627514725982861\n",
      "k: 10  cost: 0.16051100838075402\n",
      "\n"
     ]
    }
   ],
   "source": [
    "for k in range (1, 11):\n",
    "    kmeans_model = KMeans(n_clusters=k, random_state=1).fit(X)\n",
    "    labels = kmeans_model.labels_\n",
    "    interia = kmeans_model.inertia_\n",
    "    print (\"k:\",k, \" cost:\", interia)\n",
    "print()"
   ]
  },
  {
   "cell_type": "code",
   "execution_count": 33,
   "metadata": {},
   "outputs": [],
   "source": [
    "##Fitting kmeans to the dataset\n",
    "km4=KMeans(n_clusters=3,init='k-means++', max_iter=300, n_init=10, random_state=0)\n",
    "y_means = km4.fit_predict(X)"
   ]
  },
  {
   "cell_type": "code",
   "execution_count": 34,
   "metadata": {},
   "outputs": [
    {
     "data": {
      "image/png": "[encoded data removed]",
      "text/plain": [
       "<Figure size 432x288 with 1 Axes>"
      ]
     },
     "metadata": {
      "needs_background": "light"
     },
     "output_type": "display_data"
    }
   ],
   "source": [
    "#Visualising the clusters for k=4\n",
    "plt.scatter(X[y_means==0,0],X[y_means==0,1],s=50, c='purple',label='Cluster1')\n",
    "plt.scatter(X[y_means==1,0],X[y_means==1,1],s=50, c='blue',label='Cluster2')\n",
    "plt.scatter(X[y_means==2,0],X[y_means==2,1],s=50, c='green',label='Cluster3')\n",
    "plt.scatter(X[y_means==3,0],X[y_means==3,1],s=50, c='cyan',label='Cluster4')\n",
    "\n",
    "plt.scatter(km4.cluster_centers_[:,0], km4.cluster_centers_[:,1],s=200,marker='s', c='red', alpha=0.7, label='Centroids')\n",
    "\n",
    "plt.legend()\n",
    "plt.show()"
   ]
  },
  {
   "cell_type": "code",
   "execution_count": 36,
   "metadata": {},
   "outputs": [
    {
     "name": "stdout",
     "output_type": "stream",
     "text": [
      "[1 2 0 5 2 5 7 7 5 6 1 2 4 4 7 5 5 4 6 7 6 6 2 6 7 6 1 1 6 3 6 1 5 5 2 5 8\n",
      " 3 5 7 5 4 6 9 2 9 5 3 5 2 9 2 1 2 8 7 4 7 7 1 2 4 2 3 1 0 2 1 2 2]\n"
     ]
    }
   ],
   "source": [
    "print(labels)"
   ]
  },
  {
   "cell_type": "code",
   "execution_count": 39,
   "metadata": {},
   "outputs": [
    {
     "data": {
      "text/plain": [
       "[(array([  0.66140741, 106.9464444 ]), 0),\n",
       " (array([  0.75503704, 106.9464444 ]), 0),\n",
       " (array([  0.74325926, 106.9464444 ]), 0),\n",
       " (array([  0.73051852, 106.9464444 ]), 0),\n",
       " (array([  0.77562963, 106.9464444 ]), 0),\n",
       " (array([  0.64088889, 106.9464444 ]), 0),\n",
       " (array([  0.63525926, 106.9464444 ]), 0),\n",
       " (array([  0.68244444, 106.9464444 ]), 0),\n",
       " (array([  0.74103704, 106.9464444 ]), 0),\n",
       " (array([  0.758    , 106.9464444]), 0),\n",
       " (array([  0.70577778, 106.9464444 ]), 0),\n",
       " (array([  0.73088889, 106.9464444 ]), 0),\n",
       " (array([  1.13851852, 106.9464444 ]), 1),\n",
       " (array([  1.05718519, 106.9464444 ]), 1),\n",
       " (array([  1.1622963, 106.9464444]), 1),\n",
       " (array([  1.20933333, 106.9464444 ]), 1),\n",
       " (array([  1.19303704, 106.9464444 ]), 1),\n",
       " (array([  1.17096296, 106.9464444 ]), 1),\n",
       " (array([  1.09496296, 106.9464444 ]), 1),\n",
       " (array([  1.04074074, 106.9464444 ]), 1),\n",
       " (array([  1.08103704, 106.9464444 ]), 1),\n",
       " (array([  0.11007407, 106.9464444 ]), 2),\n",
       " (array([  0.22044444, 106.9464444 ]), 2),\n",
       " (array([  0.20451852, 106.9464444 ]), 2),\n",
       " (array([  0.21488889, 106.9464444 ]), 2),\n",
       " (array([  0.23303704, 106.9464444 ]), 2),\n",
       " (array([7.25185190e-02, 1.06946444e+02]), 2),\n",
       " (array([ -0.39985185, 106.9464444 ]), 3),\n",
       " (array([ -0.2877037, 106.9464444]), 3),\n",
       " (array([  1.44466667, 106.9464444 ]), 4),\n",
       " (array([  1.47044444, 106.9464444 ]), 4),\n",
       " (array([  1.53459259, 106.9464444 ]), 4),\n",
       " (array([  0.33207407, 106.9464444 ]), 5),\n",
       " (array([  0.32681481, 106.9464444 ]), 5),\n",
       " (array([  0.43977778, 106.9464444 ]), 5),\n",
       " (array([  0.28837037, 106.9464444 ]), 5),\n",
       " (array([  0.38214815, 106.9464444 ]), 5),\n",
       " (array([  0.3697037, 106.9464444]), 5),\n",
       " (array([  0.33866667, 106.9464444 ]), 5),\n",
       " (array([  0.44762963, 106.9464444 ]), 5),\n",
       " (array([  0.38933333, 106.9464444 ]), 5),\n",
       " (array([  0.42192593, 106.9464444 ]), 5),\n",
       " (array([  0.39274074, 106.9464444 ]), 5),\n",
       " (array([  0.90437037, 106.9464444 ]), 6),\n",
       " (array([  0.85985185, 106.9464444 ]), 6),\n",
       " (array([  0.81340741, 106.9464444 ]), 6),\n",
       " (array([  0.93985185, 106.9464444 ]), 6),\n",
       " (array([  0.958    , 106.9464444]), 6),\n",
       " (array([  0.86911111, 106.9464444 ]), 6),\n",
       " (array([  0.84281481, 106.9464444 ]), 6),\n",
       " (array([  0.9822963, 106.9464444]), 6),\n",
       " (array([  0.85444444, 106.9464444 ]), 6),\n",
       " (array([ -0.12888889, 106.9464444 ]), 7),\n",
       " (array([ -0.11333333, 106.9464444 ]), 7),\n",
       " (array([  1.38688889, 106.9464444 ]), 8),\n",
       " (array([  1.31688889, 106.9464444 ]), 8),\n",
       " (array([  1.35022222, 106.9464444 ]), 8),\n",
       " (array([  1.30118519, 106.9464444 ]), 8),\n",
       " (array([  0.50622222, 106.9464444 ]), 9),\n",
       " (array([  0.47807407, 106.9464444 ]), 9),\n",
       " (array([  0.48451852, 106.9464444 ]), 9),\n",
       " (array([  0.59222222, 106.9464444 ]), 9),\n",
       " (array([  0.54859259, 106.9464444 ]), 9),\n",
       " (array([  0.56111111, 106.9464444 ]), 9),\n",
       " (array([  0.45718518, 106.9464444 ]), 9),\n",
       " (array([  0.51785185, 106.9464444 ]), 9),\n",
       " (array([  0.52688889, 106.9464444 ]), 9),\n",
       " (array([  0.51059259, 106.9464444 ]), 9),\n",
       " (array([  0.56333333, 106.9464444 ]), 9),\n",
       " (array([  0.52977778, 106.9464444 ]), 9)]"
      ]
     },
     "execution_count": 39,
     "metadata": {},
     "output_type": "execute_result"
    }
   ],
   "source": [
    "result = zip(X , kmeans.labels_)\n",
    "\n",
    "sortedR = sorted(result, key=lambda x: x[1])\n",
    "sortedR"
   ]
  },
  {
   "cell_type": "code",
   "execution_count": 40,
   "metadata": {},
   "outputs": [
    {
     "name": "stdout",
     "output_type": "stream",
     "text": [
      "[[  0.71334568 106.9464444 ]\n",
      " [  1.12756379 106.9464444 ]\n",
      " [  0.17591358 106.9464444 ]\n",
      " [ -0.34377778 106.9464444 ]\n",
      " [  1.48323457 106.9464444 ]\n",
      " [  0.37538047 106.9464444 ]\n",
      " [  0.89157202 106.9464444 ]\n",
      " [ -0.12111111 106.9464444 ]\n",
      " [  1.3387963  106.9464444 ]\n",
      " [  0.52303086 106.9464444 ]]\n"
     ]
    }
   ],
   "source": [
    "print(kmeans.cluster_centers_ )"
   ]
  },
  {
   "cell_type": "code",
   "execution_count": 61,
   "metadata": {},
   "outputs": [],
   "source": [
    "\n",
    "\n",
    "cluster_map = pd.DataFrame()\n",
    "\n",
    "cluster_map['Company'] = data.Company\n",
    "cluster_map['cluster'] = km.labels_"
   ]
  },
  {
   "cell_type": "code",
   "execution_count": 62,
   "metadata": {},
   "outputs": [
    {
     "data": {
      "text/html": [
       "<div>\n",
       "<style scoped>\n",
       "    .dataframe tbody tr th:only-of-type {\n",
       "        vertical-align: middle;\n",
       "    }\n",
       "\n",
       "    .dataframe tbody tr th {\n",
       "        vertical-align: top;\n",
       "    }\n",
       "\n",
       "    .dataframe thead th {\n",
       "        text-align: right;\n",
       "    }\n",
       "</style>\n",
       "<table border=\"1\" class=\"dataframe\">\n",
       "  <thead>\n",
       "    <tr style=\"text-align: right;\">\n",
       "      <th></th>\n",
       "      <th>Company</th>\n",
       "      <th>cluster</th>\n",
       "    </tr>\n",
       "  </thead>\n",
       "  <tbody>\n",
       "    <tr>\n",
       "      <th>2</th>\n",
       "      <td>ALLAWASAYA TEXTILE</td>\n",
       "      <td>3</td>\n",
       "    </tr>\n",
       "    <tr>\n",
       "      <th>65</th>\n",
       "      <td>TOWELLERS LIMITED</td>\n",
       "      <td>3</td>\n",
       "    </tr>\n",
       "  </tbody>\n",
       "</table>\n",
       "</div>"
      ],
      "text/plain": [
       "                Company  cluster\n",
       "2   ALLAWASAYA TEXTILE         3\n",
       "65   TOWELLERS LIMITED         3"
      ]
     },
     "execution_count": 62,
     "metadata": {},
     "output_type": "execute_result"
    }
   ],
   "source": [
    "cluster_map[cluster_map.cluster == 3]"
   ]
  },
  {
   "cell_type": "code",
   "execution_count": 63,
   "metadata": {},
   "outputs": [
    {
     "data": {
      "text/html": [
       "<div>\n",
       "<style scoped>\n",
       "    .dataframe tbody tr th:only-of-type {\n",
       "        vertical-align: middle;\n",
       "    }\n",
       "\n",
       "    .dataframe tbody tr th {\n",
       "        vertical-align: top;\n",
       "    }\n",
       "\n",
       "    .dataframe thead th {\n",
       "        text-align: right;\n",
       "    }\n",
       "</style>\n",
       "<table border=\"1\" class=\"dataframe\">\n",
       "  <thead>\n",
       "    <tr style=\"text-align: right;\">\n",
       "      <th></th>\n",
       "      <th>Company</th>\n",
       "      <th>cluster</th>\n",
       "    </tr>\n",
       "  </thead>\n",
       "  <tbody>\n",
       "    <tr>\n",
       "      <th>0</th>\n",
       "      <td>ABBOTT LABS.(PAK.)</td>\n",
       "      <td>2</td>\n",
       "    </tr>\n",
       "    <tr>\n",
       "      <th>10</th>\n",
       "      <td>CLOVER PAKISTAN</td>\n",
       "      <td>2</td>\n",
       "    </tr>\n",
       "    <tr>\n",
       "      <th>26</th>\n",
       "      <td>GILLETTE PAKISTAN</td>\n",
       "      <td>2</td>\n",
       "    </tr>\n",
       "    <tr>\n",
       "      <th>27</th>\n",
       "      <td>HIGHNOON LABORATORIES</td>\n",
       "      <td>2</td>\n",
       "    </tr>\n",
       "    <tr>\n",
       "      <th>31</th>\n",
       "      <td>IDEAL SPINNING MILLS</td>\n",
       "      <td>2</td>\n",
       "    </tr>\n",
       "    <tr>\n",
       "      <th>52</th>\n",
       "      <td>SANOFI AVENTIS PAKISTAN</td>\n",
       "      <td>2</td>\n",
       "    </tr>\n",
       "    <tr>\n",
       "      <th>59</th>\n",
       "      <td>SHAKARGANJ MILLS</td>\n",
       "      <td>2</td>\n",
       "    </tr>\n",
       "    <tr>\n",
       "      <th>64</th>\n",
       "      <td>THE SEARLE COMPANY</td>\n",
       "      <td>2</td>\n",
       "    </tr>\n",
       "    <tr>\n",
       "      <th>67</th>\n",
       "      <td>WAH NOBEL CHEMICALS</td>\n",
       "      <td>2</td>\n",
       "    </tr>\n",
       "  </tbody>\n",
       "</table>\n",
       "</div>"
      ],
      "text/plain": [
       "                     Company  cluster\n",
       "0        ABBOTT LABS.(PAK.)         2\n",
       "10          CLOVER PAKISTAN         2\n",
       "26        GILLETTE PAKISTAN         2\n",
       "27    HIGHNOON LABORATORIES         2\n",
       "31     IDEAL SPINNING MILLS         2\n",
       "52  SANOFI AVENTIS PAKISTAN         2\n",
       "59         SHAKARGANJ MILLS         2\n",
       "64       THE SEARLE COMPANY         2\n",
       "67      WAH NOBEL CHEMICALS         2"
      ]
     },
     "execution_count": 63,
     "metadata": {},
     "output_type": "execute_result"
    }
   ],
   "source": [
    "cluster_map[cluster_map.cluster == 2]"
   ]
  },
  {
   "cell_type": "code",
   "execution_count": 64,
   "metadata": {},
   "outputs": [
    {
     "data": {
      "text/html": [
       "<div>\n",
       "<style scoped>\n",
       "    .dataframe tbody tr th:only-of-type {\n",
       "        vertical-align: middle;\n",
       "    }\n",
       "\n",
       "    .dataframe tbody tr th {\n",
       "        vertical-align: top;\n",
       "    }\n",
       "\n",
       "    .dataframe thead th {\n",
       "        text-align: right;\n",
       "    }\n",
       "</style>\n",
       "<table border=\"1\" class=\"dataframe\">\n",
       "  <thead>\n",
       "    <tr style=\"text-align: right;\">\n",
       "      <th></th>\n",
       "      <th>Company</th>\n",
       "      <th>cluster</th>\n",
       "    </tr>\n",
       "  </thead>\n",
       "  <tbody>\n",
       "    <tr>\n",
       "      <th>1</th>\n",
       "      <td>AL-KHAIR GADOON</td>\n",
       "      <td>1</td>\n",
       "    </tr>\n",
       "    <tr>\n",
       "      <th>4</th>\n",
       "      <td>BABRI COTTON MILLS</td>\n",
       "      <td>1</td>\n",
       "    </tr>\n",
       "    <tr>\n",
       "      <th>11</th>\n",
       "      <td>CRESCENT FIBRES</td>\n",
       "      <td>1</td>\n",
       "    </tr>\n",
       "    <tr>\n",
       "      <th>22</th>\n",
       "      <td>GATRON (INDUSTRIES)</td>\n",
       "      <td>1</td>\n",
       "    </tr>\n",
       "    <tr>\n",
       "      <th>34</th>\n",
       "      <td>JANANA DE MALUCHO TEXTILE MILLS</td>\n",
       "      <td>1</td>\n",
       "    </tr>\n",
       "    <tr>\n",
       "      <th>44</th>\n",
       "      <td>MAQBOOL TEXTILE MILLS</td>\n",
       "      <td>1</td>\n",
       "    </tr>\n",
       "    <tr>\n",
       "      <th>49</th>\n",
       "      <td>PAKISTAN SYNTHETICS</td>\n",
       "      <td>1</td>\n",
       "    </tr>\n",
       "    <tr>\n",
       "      <th>51</th>\n",
       "      <td>RELIANCE COTTON SPINNING MILLS</td>\n",
       "      <td>1</td>\n",
       "    </tr>\n",
       "    <tr>\n",
       "      <th>53</th>\n",
       "      <td>SAPPHIRE FIBRES</td>\n",
       "      <td>1</td>\n",
       "    </tr>\n",
       "    <tr>\n",
       "      <th>60</th>\n",
       "      <td>SHIFU INTL HOSPITAL</td>\n",
       "      <td>1</td>\n",
       "    </tr>\n",
       "    <tr>\n",
       "      <th>62</th>\n",
       "      <td>SURAJ COTTON MILLS</td>\n",
       "      <td>1</td>\n",
       "    </tr>\n",
       "    <tr>\n",
       "      <th>66</th>\n",
       "      <td>UNITED DISTRIBUTORS PAKISTAN</td>\n",
       "      <td>1</td>\n",
       "    </tr>\n",
       "    <tr>\n",
       "      <th>68</th>\n",
       "      <td>WYETH PAKISTAN</td>\n",
       "      <td>1</td>\n",
       "    </tr>\n",
       "    <tr>\n",
       "      <th>69</th>\n",
       "      <td>ZAHIDJEE TEXTILE MILLS</td>\n",
       "      <td>1</td>\n",
       "    </tr>\n",
       "  </tbody>\n",
       "</table>\n",
       "</div>"
      ],
      "text/plain": [
       "                             Company  cluster\n",
       "1                   AL-KHAIR GADOON         1\n",
       "4                BABRI COTTON MILLS         1\n",
       "11                  CRESCENT FIBRES         1\n",
       "22              GATRON (INDUSTRIES)         1\n",
       "34  JANANA DE MALUCHO TEXTILE MILLS         1\n",
       "44            MAQBOOL TEXTILE MILLS         1\n",
       "49              PAKISTAN SYNTHETICS         1\n",
       "51   RELIANCE COTTON SPINNING MILLS         1\n",
       "53                  SAPPHIRE FIBRES         1\n",
       "60              SHIFU INTL HOSPITAL         1\n",
       "62               SURAJ COTTON MILLS         1\n",
       "66     UNITED DISTRIBUTORS PAKISTAN         1\n",
       "68                   WYETH PAKISTAN         1\n",
       "69           ZAHIDJEE TEXTILE MILLS         1"
      ]
     },
     "execution_count": 64,
     "metadata": {},
     "output_type": "execute_result"
    }
   ],
   "source": [
    "cluster_map[cluster_map.cluster == 1]"
   ]
  },
  {
   "cell_type": "code",
   "execution_count": null,
   "metadata": {},
   "outputs": [],
   "source": []
  },
  {
   "cell_type": "code",
   "execution_count": null,
   "metadata": {},
   "outputs": [],
   "source": []
  },
  {
   "cell_type": "code",
   "execution_count": null,
   "metadata": {},
   "outputs": [],
   "source": []
  }
 ],
 "metadata": {
  "kernelspec": {
   "display_name": "Python 3",
   "language": "python",
   "name": "python3"
  },
  "language_info": {
   "codemirror_mode": {
    "name": "ipython",
    "version": 3
   },
   "file_extension": ".py",
   "mimetype": "text/x-python",
   "name": "python",
   "nbconvert_exporter": "python",
   "pygments_lexer": "ipython3",
   "version": "3.7.4"
  }
 },
 "nbformat": 4,
 "nbformat_minor": 2
}
